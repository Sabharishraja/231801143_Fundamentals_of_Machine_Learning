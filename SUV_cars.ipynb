{
  "nbformat": 4,
  "nbformat_minor": 0,
  "metadata": {
    "colab": {
      "provenance": [],
      "authorship_tag": "ABX9TyMGsUI1K4wvE4KToARDrEMx",
      "include_colab_link": true
    },
    "kernelspec": {
      "name": "python3",
      "display_name": "Python 3"
    },
    "language_info": {
      "name": "python"
    }
  },
  "cells": [
    {
      "cell_type": "markdown",
      "metadata": {
        "id": "view-in-github",
        "colab_type": "text"
      },
      "source": [
        "<a href=\"https://colab.research.google.com/github/Sabharishraja/Machine_Learning/blob/main/SUV_cars.ipynb\" target=\"_parent\"><img src=\"https://colab.research.google.com/assets/colab-badge.svg\" alt=\"Open In Colab\"/></a>"
      ]
    },
    {
      "cell_type": "code",
      "execution_count": 2,
      "metadata": {
        "colab": {
          "base_uri": "https://localhost:8080/"
        },
        "id": "ak005WP3jkg7",
        "outputId": "edb08950-88e1-4bb7-db4d-95515d497d1d"
      },
      "outputs": [
        {
          "output_type": "stream",
          "name": "stdout",
          "text": [
            "    User ID  Gender  Age  EstimatedSalary  Purchased\n",
            "0  15624510    Male   19            19000          0\n",
            "1  15810944    Male   35            20000          0\n",
            "2  15668575  Female   26            43000          0\n",
            "3  15603246  Female   27            57000          0\n",
            "4  15804002    Male   19            76000          0\n"
          ]
        }
      ],
      "source": [
        "import pandas as pd\n",
        "import numpy as np\n",
        "from numpy import log,dot,exp,shape\n",
        "from sklearn.metrics import confusion_matrix\n",
        "data = pd.read_csv(\"/content/SUVCars.csv\")\n",
        "print(data.head())"
      ]
    },
    {
      "cell_type": "code",
      "source": [
        "x = data.iloc[:, [2, 3]].values\n",
        "y = data.iloc[:, 4].values"
      ],
      "metadata": {
        "id": "dzI1_cOXmLUH"
      },
      "execution_count": 3,
      "outputs": []
    },
    {
      "cell_type": "code",
      "source": [
        "from sklearn.model_selection import train_test_split\n",
        "x_train, x_test, y_train, y_test=train_test_split(x,y,test_size=0.10, random_state=0)\n",
        "from sklearn.preprocessing import StandardScaler\n",
        "sc=StandardScaler()\n",
        "x_train=sc.fit_transform(x_train)\n",
        "x_test=sc.transform(x_test)\n",
        "print (x_train[0:10,:])"
      ],
      "metadata": {
        "colab": {
          "base_uri": "https://localhost:8080/"
        },
        "id": "Oxx5ijaMmVRh",
        "outputId": "0053f870-17a5-42b7-8c2c-2cd34fc91362"
      },
      "execution_count": 4,
      "outputs": [
        {
          "output_type": "stream",
          "name": "stdout",
          "text": [
            "[[-1.05714987  0.53420426]\n",
            " [ 0.2798728  -0.51764734]\n",
            " [-1.05714987  0.41733186]\n",
            " [-0.29313691 -1.45262654]\n",
            " [ 0.47087604  1.23543867]\n",
            " [-1.05714987 -0.34233874]\n",
            " [-0.10213368  0.30045946]\n",
            " [ 1.33039061  0.59264046]\n",
            " [-1.15265148 -1.16044554]\n",
            " [ 1.04388575  0.47576806]]\n"
          ]
        }
      ]
    },
    {
      "cell_type": "code",
      "source": [
        "from sklearn.linear_model import LogisticRegression\n",
        "classifier=LogisticRegression(random_state=0)\n",
        "classifier.fit(x_train,y_train)\n",
        "LogisticRegression (random_state=0)\n",
        "y_pred = classifier.predict(x_test)\n",
        "print(y_pred)"
      ],
      "metadata": {
        "colab": {
          "base_uri": "https://localhost:8080/"
        },
        "id": "8-NadtUOmdHh",
        "outputId": "0cf19073-3bab-450c-9f7b-adafbd05272b"
      },
      "execution_count": 5,
      "outputs": [
        {
          "output_type": "stream",
          "name": "stdout",
          "text": [
            "[0 0 0 0 0 0 0 1 0 1 0 0 0 0 0 0 0 0 1 0 0 1 0 1 0 1 0 0 0 0 0 0 1 0 0 0 0\n",
            " 0 0 1]\n"
          ]
        }
      ]
    },
    {
      "cell_type": "code",
      "source": [
        "from sklearn.metrics import confusion_matrix\n",
        "cm = confusion_matrix(y_test, y_pred)\n",
        "print (\"Confusion Matrix : \\n\", cm)"
      ],
      "metadata": {
        "colab": {
          "base_uri": "https://localhost:8080/"
        },
        "id": "Ihua_10umhgD",
        "outputId": "b9fc63ba-6cbf-4371-c2ef-c91ef0f6353f"
      },
      "execution_count": 6,
      "outputs": [
        {
          "output_type": "stream",
          "name": "stdout",
          "text": [
            "Confusion Matrix : \n",
            " [[31  1]\n",
            " [ 1  7]]\n"
          ]
        }
      ]
    },
    {
      "cell_type": "code",
      "source": [
        "from sklearn.metrics import accuracy_score\n",
        "print (\"Accuracy : \", accuracy_score(y_test, y_pred))"
      ],
      "metadata": {
        "id": "JaJFH3IQmxfQ",
        "colab": {
          "base_uri": "https://localhost:8080/"
        },
        "outputId": "2209d7e9-434b-49f6-c86c-6882507f3d30"
      },
      "execution_count": 7,
      "outputs": [
        {
          "output_type": "stream",
          "name": "stdout",
          "text": [
            "Accuracy :  0.95\n"
          ]
        }
      ]
    },
    {
      "cell_type": "code",
      "source": [
        "from sklearn.model_selection import train_test_split\n",
        "x_train, x_test, y_train, y_test=train_test_split(x,y,test_size=0.10, random_state=0)\n",
        "def Std(input_data):\n",
        "    mean0 = np.mean(input_data[:, 0])\n",
        "    sd0 = np.std(input_data[:, 0])\n",
        "    mean1 = np.mean(input_data[:, 1])\n",
        "    sd1 = np.std(input_data[:, 1])\n",
        "    return lambda x:((x[0]-mean0)/sd0, (x[1]-mean1)/sd1)\n",
        "my_std = Std(x)\n",
        "my_std(x_train[0])"
      ],
      "metadata": {
        "id": "F-MbfafCppAo",
        "colab": {
          "base_uri": "https://localhost:8080/"
        },
        "outputId": "23b0e54b-3896-4190-a0fb-de9ae015a83a"
      },
      "execution_count": 8,
      "outputs": [
        {
          "output_type": "execute_result",
          "data": {
            "text/plain": [
              "(-1.017692393473028, 0.5361288690822568)"
            ]
          },
          "metadata": {},
          "execution_count": 8
        }
      ]
    }
  ]
}