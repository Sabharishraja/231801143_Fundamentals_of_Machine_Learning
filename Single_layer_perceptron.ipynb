{
  "nbformat": 4,
  "nbformat_minor": 0,
  "metadata": {
    "colab": {
      "provenance": [],
      "authorship_tag": "ABX9TyNdZa0fAzVtKyKDFWlISxt7",
      "include_colab_link": true
    },
    "kernelspec": {
      "name": "python3",
      "display_name": "Python 3"
    },
    "language_info": {
      "name": "python"
    }
  },
  "cells": [
    {
      "cell_type": "markdown",
      "metadata": {
        "id": "view-in-github",
        "colab_type": "text"
      },
      "source": [
        "<a href=\"https://colab.research.google.com/github/Sabharishraja/Machine_Learning/blob/main/Single_layer_perceptron.ipynb\" target=\"_parent\"><img src=\"https://colab.research.google.com/assets/colab-badge.svg\" alt=\"Open In Colab\"/></a>"
      ]
    },
    {
      "cell_type": "code",
      "execution_count": 7,
      "metadata": {
        "colab": {
          "base_uri": "https://localhost:8080/"
        },
        "id": "PSplMRnH0HEI",
        "outputId": "67806906-7977-4949-9eec-7d200b3767a9"
      },
      "outputs": [
        {
          "output_type": "execute_result",
          "data": {
            "text/plain": [
              "(4, 1)"
            ]
          },
          "metadata": {},
          "execution_count": 7
        }
      ],
      "source": [
        "import numpy as np\n",
        "import pandas as pd\n",
        "\n",
        "input_value = np.array([[0, 0], [0, 1], [1, 1], [1, 0]])\n",
        "input_value.shape\n",
        "output = np.array([0, 0, 1, 0])\n",
        "output = output.reshape(4, 1)\n",
        "output.shape"
      ]
    },
    {
      "cell_type": "code",
      "source": [
        "weights = np.array([[0.1], [0.3]])\n",
        "weights"
      ],
      "metadata": {
        "colab": {
          "base_uri": "https://localhost:8080/"
        },
        "id": "sY4n9zxj0UYV",
        "outputId": "0c931227-9ded-4bdf-9bf4-46c035cf227b"
      },
      "execution_count": 10,
      "outputs": [
        {
          "output_type": "execute_result",
          "data": {
            "text/plain": [
              "array([[0.1],\n",
              "       [0.3]])"
            ]
          },
          "metadata": {},
          "execution_count": 10
        }
      ]
    },
    {
      "cell_type": "code",
      "source": [
        "bias = 0.2\n",
        "\n",
        "def sigmoid_func(x):\n",
        "    return 1 / (1 + np.exp(-x))\n",
        "\n",
        "\n",
        "def der(x):\n",
        "    return sigmoid_func(x) * (1 - sigmoid_func(x))\n",
        "for epochs in range(15000):\n",
        "    input_arr = input_value\n",
        "    weighted_sum = np.dot(input_arr, weights) + bias\n",
        "    first_output = sigmoid_func(weighted_sum)\n",
        "    error = first_output - output\n",
        "    total_error = np.square(np.subtract(first_output, output)).mean()\n",
        "    first_der = error\n",
        "    second_der = der(first_output)\n",
        "    derivative = first_der * second_der\n",
        "    t_input = input_value.T\n",
        "    final_derivative = np.dot(t_input, derivative)\n",
        "    weights = weights - (0.05 * final_derivative)\n",
        "    for i in derivative:\n",
        "        bias = bias - (0.05 * i)\n",
        "\n",
        "print(weights)\n",
        "print(bias)"
      ],
      "metadata": {
        "colab": {
          "base_uri": "https://localhost:8080/"
        },
        "id": "NwjFzrE61RwF",
        "outputId": "7fc116ff-e483-4bd1-e13c-7fefdfdac3a9"
      },
      "execution_count": 14,
      "outputs": [
        {
          "output_type": "stream",
          "name": "stdout",
          "text": [
            "[[7.02572691]\n",
            " [7.02572691]]\n",
            "[-10.82677076]\n"
          ]
        }
      ]
    },
    {
      "cell_type": "code",
      "source": [
        "pred = np.array([1, 0])\n",
        "result = np.dot(pred, weights) + bias\n",
        "res = sigmoid_func(result)\n",
        "print(res)\n",
        "pred = np.array([1, 1])\n",
        "result = np.dot(pred, weights) + bias\n",
        "res = sigmoid_func(result)\n",
        "print(res)"
      ],
      "metadata": {
        "colab": {
          "base_uri": "https://localhost:8080/"
        },
        "id": "ajQm9IG01a5J",
        "outputId": "81d2ae38-6c57-4939-92dc-bacaa6fcbfd4"
      },
      "execution_count": 17,
      "outputs": [
        {
          "output_type": "stream",
          "name": "stdout",
          "text": [
            "[0.02185894]\n",
            "[0.96175265]\n"
          ]
        }
      ]
    },
    {
      "cell_type": "code",
      "source": [
        "pred = np.array([0, 0])\n",
        "result = np.dot(pred, weights) + bias\n",
        "res = sigmoid_func(result)\n",
        "print(res)"
      ],
      "metadata": {
        "colab": {
          "base_uri": "https://localhost:8080/"
        },
        "id": "f1zR64nP1u7N",
        "outputId": "3de57066-3df0-4478-e578-bf1f45049e8d"
      },
      "execution_count": 18,
      "outputs": [
        {
          "output_type": "stream",
          "name": "stdout",
          "text": [
            "[1.98602439e-05]\n"
          ]
        }
      ]
    },
    {
      "cell_type": "code",
      "source": [
        "pred = np.array([0, 1])\n",
        "result = np.dot(pred, weights) + bias\n",
        "res = sigmoid_func(result)\n",
        "print(res)"
      ],
      "metadata": {
        "colab": {
          "base_uri": "https://localhost:8080/"
        },
        "id": "jcV4Bxnx14_z",
        "outputId": "461171bb-bc84-4574-c5f0-2aef8aab2cde"
      },
      "execution_count": 19,
      "outputs": [
        {
          "output_type": "stream",
          "name": "stdout",
          "text": [
            "[0.02185894]\n"
          ]
        }
      ]
    }
  ]
}